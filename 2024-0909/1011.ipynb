{
 "cells": [
  {
   "cell_type": "code",
   "execution_count": 27,
   "metadata": {},
   "outputs": [
    {
     "name": "stdout",
     "output_type": "stream",
     "text": [
      "0th trial: distance=1 n=3\n",
      "1th trial: distance=1 n=2\n",
      "2th trial: distance=1 n=1\n",
      "3\n",
      "0th trial: distance=1 n=4\n",
      "1th trial: distance=2 n=3\n",
      "2th trial: distance=1 n=1\n",
      "3\n",
      "0th trial: distance=1 n=5\n",
      "1th trial: distance=2 n=4\n",
      "2th trial: distance=1 n=2\n",
      "3th trial: distance=1 n=1\n",
      "4\n"
     ]
    }
   ],
   "source": [
    "### 매우 나쁜 풀이\n",
    "def series(n):\n",
    "    return (n+1)*n//2\n",
    "\n",
    "def solver():\n",
    "    x,y = map(int,input().split())\n",
    "    n = y-x\n",
    "    trial = 0\n",
    "    start = 0\n",
    "    while n!=0:\n",
    "        if n==series(start):\n",
    "            trial+=start\n",
    "            n=0\n",
    "        elif n > series(start):\n",
    "            if n >= series(start+1):\n",
    "                start+=1\n",
    "            n-=start\n",
    "            trial+=1\n",
    "        else:\n",
    "            start-=1\n",
    "            n-=start\n",
    "            trial+=1\n",
    "    return trial\n",
    "\n",
    "t = int(input())\n",
    "for _ in range(t):\n",
    "    print(solver())"
   ]
  },
  {
   "cell_type": "code",
   "execution_count": 2,
   "metadata": {},
   "outputs": [
    {
     "data": {
      "text/plain": [
       "1.8284271247461903"
      ]
     },
     "execution_count": 2,
     "metadata": {},
     "output_type": "execute_result"
    }
   ],
   "source": [
    "import math\n",
    "def solver():\n",
    "    m,n = map(int,input().split())\n",
    "    diff = n-m\n",
    "    if math.sqrt(diff)**2 == diff:\n",
    "        return math.sqrt(diff)*2 - 1\n",
    "    else:\n",
    "        return math.sqrt(diff)*2 - 1 + ((diff - math.sqrt(diff)**2))\n",
    "\n",
    "solver()"
   ]
  }
 ],
 "metadata": {
  "kernelspec": {
   "display_name": "Python 3",
   "language": "python",
   "name": "python3"
  },
  "language_info": {
   "codemirror_mode": {
    "name": "ipython",
    "version": 3
   },
   "file_extension": ".py",
   "mimetype": "text/x-python",
   "name": "python",
   "nbconvert_exporter": "python",
   "pygments_lexer": "ipython3",
   "version": "3.12.3"
  }
 },
 "nbformat": 4,
 "nbformat_minor": 2
}
