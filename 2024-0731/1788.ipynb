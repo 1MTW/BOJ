{
 "cells": [
  {
   "cell_type": "code",
   "execution_count": 39,
   "metadata": {},
   "outputs": [
    {
     "name": "stdout",
     "output_type": "stream",
     "text": [
      "-1\n",
      "1\n"
     ]
    }
   ],
   "source": [
    "from collections import deque\n",
    "dp = deque([0,1])\n",
    "n = int(input())\n",
    "if n==0:\n",
    "    print(0)\n",
    "    print(dp[0])\n",
    "elif n>=1:\n",
    "    print(1)\n",
    "    for i in range(2,n+1):\n",
    "        temp = dp.popleft()\n",
    "        dp.append((temp + dp[0])%1000000000)\n",
    "    print(dp[-1])\n",
    "else:\n",
    "    for i in range(abs(n)):\n",
    "        temp = dp.pop()\n",
    "        temp = temp - dp[0]\n",
    "        if temp<0:\n",
    "            dp.appendleft((-1)*(abs(temp)%1000000000))\n",
    "        else:\n",
    "            dp.appendleft((temp - dp[0])%1000000000)\n",
    "    if dp[0]==0:\n",
    "        print(0)\n",
    "        print(0)\n",
    "    elif dp[0]>=1:\n",
    "        print(1)\n",
    "        print(dp[0])\n",
    "    else:\n",
    "        print(-1)\n",
    "        print(abs(dp[0]))"
   ]
  },
  {
   "cell_type": "code",
   "execution_count": 36,
   "metadata": {},
   "outputs": [
    {
     "data": {
      "text/plain": [
       "deque([-2, 1])"
      ]
     },
     "execution_count": 36,
     "metadata": {},
     "output_type": "execute_result"
    }
   ],
   "source": [
    "dp"
   ]
  },
  {
   "cell_type": "code",
   "execution_count": 34,
   "metadata": {},
   "outputs": [
    {
     "name": "stdout",
     "output_type": "stream",
     "text": [
      "-1\n"
     ]
    }
   ],
   "source": [
    "temp = dp.pop()\n",
    "print(temp-dp[0])"
   ]
  },
  {
   "cell_type": "code",
   "execution_count": null,
   "metadata": {},
   "outputs": [],
   "source": []
  }
 ],
 "metadata": {
  "kernelspec": {
   "display_name": "Python 3",
   "language": "python",
   "name": "python3"
  },
  "language_info": {
   "codemirror_mode": {
    "name": "ipython",
    "version": 3
   },
   "file_extension": ".py",
   "mimetype": "text/x-python",
   "name": "python",
   "nbconvert_exporter": "python",
   "pygments_lexer": "ipython3",
   "version": "3.12.4"
  }
 },
 "nbformat": 4,
 "nbformat_minor": 2
}
